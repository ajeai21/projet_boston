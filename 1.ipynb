{
 "cells": [
  {
   "cell_type": "code",
   "execution_count": null,
   "id": "492486a3-5fa3-42e3-a28f-11e119b36cf8",
   "metadata": {},
   "outputs": [],
   "source": [
    "pip install numpy pandas pytest"
   ]
  },
  {
   "cell_type": "code",
   "execution_count": null,
   "id": "94d48bb6-a76d-4a3e-9baf-56b7df2ebf02",
   "metadata": {},
   "outputs": [],
   "source": [
    "import json\n",
    "import urllib.request\n",
    "import pandas as pd\n",
    "import numpy as np"
   ]
  },
  {
   "cell_type": "code",
   "execution_count": null,
   "id": "47047d0a-1f2a-4de0-a3dd-0307922d2c4c",
   "metadata": {},
   "outputs": [],
   "source": [
    "from mon_projet.etl import extract_boston_salary\n",
    "\n",
    "URL = \"https://data.boston.gov/api/3/action/datastore_search?resource_id=31358fd1-849a-48e0-8285-e813f6efbdf1\"\n",
    "\n",
    "df = extract_boston_salary(URL)\n",
    "df.head()\n"
   ]
  },
  {
   "cell_type": "code",
   "execution_count": 6,
   "id": "fb0ea0be-5d8a-4cbb-81b9-38d62111d8a9",
   "metadata": {},
   "outputs": [
    {
     "ename": "ImportError",
     "evalue": "cannot import name 'transform' from 'mon_projet.etl' (C:\\Users\\ashle\\Documents\\projet_boston\\project_data\\mon_projet\\etl.py)",
     "output_type": "error",
     "traceback": [
      "\u001b[31m---------------------------------------------------------------------------\u001b[39m",
      "\u001b[31mImportError\u001b[39m                               Traceback (most recent call last)",
      "\u001b[36mCell\u001b[39m\u001b[36m \u001b[39m\u001b[32mIn[6]\u001b[39m\u001b[32m, line 1\u001b[39m\n\u001b[32m----> \u001b[39m\u001b[32m1\u001b[39m \u001b[38;5;28;01mfrom\u001b[39;00m\u001b[38;5;250m \u001b[39m\u001b[34;01mmon_projet\u001b[39;00m\u001b[34;01m.\u001b[39;00m\u001b[34;01metl\u001b[39;00m\u001b[38;5;250m \u001b[39m\u001b[38;5;28;01mimport\u001b[39;00m transform\n\u001b[32m      3\u001b[39m df_clean = transform(df)\n\u001b[32m      4\u001b[39m df_clean.head()\n",
      "\u001b[31mImportError\u001b[39m: cannot import name 'transform' from 'mon_projet.etl' (C:\\Users\\ashle\\Documents\\projet_boston\\project_data\\mon_projet\\etl.py)"
     ]
    }
   ],
   "source": [
    "from mon_projet.etl import transform\n",
    "\n",
    "df_clean = transform(df)\n",
    "df_clean.head()\n"
   ]
  },
  {
   "cell_type": "code",
   "execution_count": 7,
   "id": "620dcf96-0525-44ec-9542-fe78a9fa26a1",
   "metadata": {},
   "outputs": [
    {
     "name": "stdout",
     "output_type": "stream",
     "text": [
      "C:\\Users\\ashle\\Documents\\projet_boston\\project_data\n"
     ]
    }
   ],
   "source": [
    "import os\n",
    "print(os.getcwd())"
   ]
  },
  {
   "cell_type": "code",
   "execution_count": 8,
   "id": "9b3516d6-551b-44dd-94a0-cce2b9bf3310",
   "metadata": {},
   "outputs": [
    {
     "name": "stdout",
     "output_type": "stream",
     "text": [
      "['C:\\\\Users\\\\ashle\\\\AppData\\\\Local\\\\Programs\\\\Python\\\\Python314\\\\python314.zip', 'C:\\\\Users\\\\ashle\\\\AppData\\\\Local\\\\Programs\\\\Python\\\\Python314\\\\DLLs', 'C:\\\\Users\\\\ashle\\\\AppData\\\\Local\\\\Programs\\\\Python\\\\Python314\\\\Lib', 'C:\\\\Users\\\\ashle\\\\AppData\\\\Local\\\\Programs\\\\Python\\\\Python314', 'C:\\\\Users\\\\ashle\\\\Documents\\\\projet_boston\\\\env_dataops', '', 'C:\\\\Users\\\\ashle\\\\Documents\\\\projet_boston\\\\env_dataops\\\\Lib\\\\site-packages', 'C:\\\\Users\\\\ashle\\\\Documents\\\\projet_boston\\\\env_dataops\\\\Lib\\\\site-packages\\\\win32', 'C:\\\\Users\\\\ashle\\\\Documents\\\\projet_boston\\\\env_dataops\\\\Lib\\\\site-packages\\\\win32\\\\lib', 'C:\\\\Users\\\\ashle\\\\Documents\\\\projet_boston\\\\env_dataops\\\\Lib\\\\site-packages\\\\Pythonwin']\n"
     ]
    }
   ],
   "source": [
    "import sys\n",
    "print(sys.path)\n"
   ]
  },
  {
   "cell_type": "code",
   "execution_count": 9,
   "id": "19374d3d-b14c-4399-b7ae-02f49af9186e",
   "metadata": {},
   "outputs": [
    {
     "name": "stdout",
     "output_type": "stream",
     "text": [
      "C:\\Users\\ashle\\Documents\\projet_boston\\project_data\n"
     ]
    }
   ],
   "source": [
    "import os\n",
    "os.chdir(r\"C:\\Users\\ashle\\Documents\\projet_boston\\project_data\")\n",
    "print(os.getcwd())\n"
   ]
  },
  {
   "cell_type": "code",
   "execution_count": 10,
   "id": "84112d2d-bb7b-428b-a3b7-efe1d5f02caf",
   "metadata": {},
   "outputs": [
    {
     "ename": "ImportError",
     "evalue": "cannot import name 'transform' from 'mon_projet.etl' (C:\\Users\\ashle\\Documents\\projet_boston\\project_data\\mon_projet\\etl.py)",
     "output_type": "error",
     "traceback": [
      "\u001b[31m---------------------------------------------------------------------------\u001b[39m",
      "\u001b[31mImportError\u001b[39m                               Traceback (most recent call last)",
      "\u001b[36mCell\u001b[39m\u001b[36m \u001b[39m\u001b[32mIn[10]\u001b[39m\u001b[32m, line 1\u001b[39m\n\u001b[32m----> \u001b[39m\u001b[32m1\u001b[39m \u001b[38;5;28;01mfrom\u001b[39;00m\u001b[38;5;250m \u001b[39m\u001b[34;01mmon_projet\u001b[39;00m\u001b[34;01m.\u001b[39;00m\u001b[34;01metl\u001b[39;00m\u001b[38;5;250m \u001b[39m\u001b[38;5;28;01mimport\u001b[39;00m transform\n",
      "\u001b[31mImportError\u001b[39m: cannot import name 'transform' from 'mon_projet.etl' (C:\\Users\\ashle\\Documents\\projet_boston\\project_data\\mon_projet\\etl.py)"
     ]
    }
   ],
   "source": [
    "from mon_projet.etl import transform\n"
   ]
  },
  {
   "cell_type": "code",
   "execution_count": 11,
   "id": "26723420-9cdf-4340-ba3b-499c626dab8b",
   "metadata": {},
   "outputs": [
    {
     "name": "stdout",
     "output_type": "stream",
     "text": [
      "✅ Extraction réussie : 100 lignes récupérées.\n"
     ]
    },
    {
     "data": {
      "text/html": [
       "<div>\n",
       "<style scoped>\n",
       "    .dataframe tbody tr th:only-of-type {\n",
       "        vertical-align: middle;\n",
       "    }\n",
       "\n",
       "    .dataframe tbody tr th {\n",
       "        vertical-align: top;\n",
       "    }\n",
       "\n",
       "    .dataframe thead th {\n",
       "        text-align: right;\n",
       "    }\n",
       "</style>\n",
       "<table border=\"1\" class=\"dataframe\">\n",
       "  <thead>\n",
       "    <tr style=\"text-align: right;\">\n",
       "      <th></th>\n",
       "      <th>_id</th>\n",
       "      <th>NAME</th>\n",
       "      <th>DEPARTMENT_NAME</th>\n",
       "      <th>TITLE</th>\n",
       "      <th>REGULAR</th>\n",
       "      <th>RETRO</th>\n",
       "      <th>OTHER</th>\n",
       "      <th>OVERTIME</th>\n",
       "      <th>INJURED</th>\n",
       "      <th>DETAIL</th>\n",
       "      <th>QUINN/EDUCATION INCENTIVE</th>\n",
       "      <th>TOTAL EARNINGS</th>\n",
       "      <th>POSTAL</th>\n",
       "    </tr>\n",
       "  </thead>\n",
       "  <tbody>\n",
       "    <tr>\n",
       "      <th>0</th>\n",
       "      <td>1</td>\n",
       "      <td>Williams,David C.</td>\n",
       "      <td>Boston Police Department</td>\n",
       "      <td>Police Officer</td>\n",
       "      <td>95,184.68</td>\n",
       "      <td>None</td>\n",
       "      <td>503,025.78</td>\n",
       "      <td>45,176.88</td>\n",
       "      <td>5,307.62</td>\n",
       "      <td>24,610.00</td>\n",
       "      <td>4,375.69</td>\n",
       "      <td>677,680.65</td>\n",
       "      <td>02356</td>\n",
       "    </tr>\n",
       "    <tr>\n",
       "      <th>1</th>\n",
       "      <td>2</td>\n",
       "      <td>Earley,John W</td>\n",
       "      <td>Boston Police Department</td>\n",
       "      <td>Police Lieutenant</td>\n",
       "      <td>26,130.54</td>\n",
       "      <td>13,001.47</td>\n",
       "      <td>204,120.61</td>\n",
       "      <td>668.36</td>\n",
       "      <td>None</td>\n",
       "      <td>440.00</td>\n",
       "      <td>6,532.63</td>\n",
       "      <td>250,893.61</td>\n",
       "      <td>02131</td>\n",
       "    </tr>\n",
       "    <tr>\n",
       "      <th>2</th>\n",
       "      <td>3</td>\n",
       "      <td>Bucelewicz,Helen</td>\n",
       "      <td>Boston Police Department</td>\n",
       "      <td>Police Officer</td>\n",
       "      <td>8,676.89</td>\n",
       "      <td>None</td>\n",
       "      <td>200,000.00</td>\n",
       "      <td>None</td>\n",
       "      <td>None</td>\n",
       "      <td>None</td>\n",
       "      <td>None</td>\n",
       "      <td>208,676.89</td>\n",
       "      <td>02135</td>\n",
       "    </tr>\n",
       "    <tr>\n",
       "      <th>3</th>\n",
       "      <td>4</td>\n",
       "      <td>Evans,William B</td>\n",
       "      <td>Boston Police Department</td>\n",
       "      <td>Commissioner (Bpd)</td>\n",
       "      <td>149,999.93</td>\n",
       "      <td>3,461.56</td>\n",
       "      <td>165,858.44</td>\n",
       "      <td>None</td>\n",
       "      <td>None</td>\n",
       "      <td>None</td>\n",
       "      <td>None</td>\n",
       "      <td>319,319.93</td>\n",
       "      <td>02127</td>\n",
       "    </tr>\n",
       "    <tr>\n",
       "      <th>4</th>\n",
       "      <td>5</td>\n",
       "      <td>Jones,Ronnie C</td>\n",
       "      <td>Boston Police Department</td>\n",
       "      <td>Police Officer</td>\n",
       "      <td>462,149.98</td>\n",
       "      <td>None</td>\n",
       "      <td>114,973.46</td>\n",
       "      <td>None</td>\n",
       "      <td>None</td>\n",
       "      <td>None</td>\n",
       "      <td>None</td>\n",
       "      <td>577,123.44</td>\n",
       "      <td>02126</td>\n",
       "    </tr>\n",
       "  </tbody>\n",
       "</table>\n",
       "</div>"
      ],
      "text/plain": [
       "   _id               NAME           DEPARTMENT_NAME               TITLE  \\\n",
       "0    1  Williams,David C.  Boston Police Department      Police Officer   \n",
       "1    2      Earley,John W  Boston Police Department   Police Lieutenant   \n",
       "2    3   Bucelewicz,Helen  Boston Police Department      Police Officer   \n",
       "3    4    Evans,William B  Boston Police Department  Commissioner (Bpd)   \n",
       "4    5     Jones,Ronnie C  Boston Police Department      Police Officer   \n",
       "\n",
       "      REGULAR      RETRO       OTHER   OVERTIME   INJURED     DETAIL  \\\n",
       "0   95,184.68       None  503,025.78  45,176.88  5,307.62  24,610.00   \n",
       "1   26,130.54  13,001.47  204,120.61     668.36      None     440.00   \n",
       "2    8,676.89       None  200,000.00       None      None       None   \n",
       "3  149,999.93   3,461.56  165,858.44       None      None       None   \n",
       "4  462,149.98       None  114,973.46       None      None       None   \n",
       "\n",
       "  QUINN/EDUCATION INCENTIVE TOTAL EARNINGS POSTAL  \n",
       "0                  4,375.69     677,680.65  02356  \n",
       "1                  6,532.63     250,893.61  02131  \n",
       "2                      None     208,676.89  02135  \n",
       "3                      None     319,319.93  02127  \n",
       "4                      None     577,123.44  02126  "
      ]
     },
     "execution_count": 11,
     "metadata": {},
     "output_type": "execute_result"
    }
   ],
   "source": [
    "from mon_projet.etl import extract_boston_salary\n",
    "\n",
    "URL = \"https://data.boston.gov/api/3/action/datastore_search?resource_id=31358fd1-849a-48e0-8285-e813f6efbdf1\"\n",
    "\n",
    "df = extract_boston_salary(URL)\n",
    "df.head()\n"
   ]
  },
  {
   "cell_type": "code",
   "execution_count": 12,
   "id": "135b2d26-0131-479e-a4d8-24f1931d150a",
   "metadata": {},
   "outputs": [
    {
     "ename": "ImportError",
     "evalue": "cannot import name 'transform' from 'mon_projet.etl' (C:\\Users\\ashle\\Documents\\projet_boston\\project_data\\mon_projet\\etl.py)",
     "output_type": "error",
     "traceback": [
      "\u001b[31m---------------------------------------------------------------------------\u001b[39m",
      "\u001b[31mImportError\u001b[39m                               Traceback (most recent call last)",
      "\u001b[36mCell\u001b[39m\u001b[36m \u001b[39m\u001b[32mIn[12]\u001b[39m\u001b[32m, line 1\u001b[39m\n\u001b[32m----> \u001b[39m\u001b[32m1\u001b[39m \u001b[38;5;28;01mfrom\u001b[39;00m\u001b[38;5;250m \u001b[39m\u001b[34;01mmon_projet\u001b[39;00m\u001b[34;01m.\u001b[39;00m\u001b[34;01metl\u001b[39;00m\u001b[38;5;250m \u001b[39m\u001b[38;5;28;01mimport\u001b[39;00m extract_boston_salary, transform\n",
      "\u001b[31mImportError\u001b[39m: cannot import name 'transform' from 'mon_projet.etl' (C:\\Users\\ashle\\Documents\\projet_boston\\project_data\\mon_projet\\etl.py)"
     ]
    }
   ],
   "source": [
    "from mon_projet.etl import extract_boston_salary, transform\n"
   ]
  },
  {
   "cell_type": "code",
   "execution_count": 13,
   "id": "396be933-bddd-4309-a0b3-72fd88b7293e",
   "metadata": {},
   "outputs": [
    {
     "data": {
      "text/plain": [
       "['__builtins__',\n",
       " '__cached__',\n",
       " '__doc__',\n",
       " '__file__',\n",
       " '__loader__',\n",
       " '__name__',\n",
       " '__package__',\n",
       " '__spec__',\n",
       " 'extract_boston_salary',\n",
       " 'json',\n",
       " 'pd',\n",
       " 'urllib']"
      ]
     },
     "execution_count": 13,
     "metadata": {},
     "output_type": "execute_result"
    }
   ],
   "source": [
    "import mon_projet.etl\n",
    "dir(mon_projet.etl)\n"
   ]
  },
  {
   "cell_type": "code",
   "execution_count": 1,
   "id": "72383ca3-5cea-48d9-b8bb-5a6db630bb5c",
   "metadata": {},
   "outputs": [
    {
     "ename": "NameError",
     "evalue": "name 'df' is not defined",
     "output_type": "error",
     "traceback": [
      "\u001b[31m---------------------------------------------------------------------------\u001b[39m",
      "\u001b[31mNameError\u001b[39m                                 Traceback (most recent call last)",
      "\u001b[36mCell\u001b[39m\u001b[36m \u001b[39m\u001b[32mIn[1]\u001b[39m\u001b[32m, line 3\u001b[39m\n\u001b[32m      1\u001b[39m \u001b[38;5;28;01mfrom\u001b[39;00m\u001b[38;5;250m \u001b[39m\u001b[34;01mmon_projet\u001b[39;00m\u001b[34;01m.\u001b[39;00m\u001b[34;01metl\u001b[39;00m\u001b[38;5;250m \u001b[39m\u001b[38;5;28;01mimport\u001b[39;00m extract_boston_salary, transform\n\u001b[32m----> \u001b[39m\u001b[32m3\u001b[39m df_clean = transform(\u001b[43mdf\u001b[49m)\n\u001b[32m      4\u001b[39m df_clean.head()\n",
      "\u001b[31mNameError\u001b[39m: name 'df' is not defined"
     ]
    }
   ],
   "source": [
    "from mon_projet.etl import extract_boston_salary, transform\n",
    "\n",
    "df_clean = transform(df)\n",
    "df_clean.head()\n"
   ]
  },
  {
   "cell_type": "code",
   "execution_count": 2,
   "id": "d30ce554-8442-4121-9f41-8d1078951b99",
   "metadata": {},
   "outputs": [
    {
     "ename": "SyntaxError",
     "evalue": "unterminated string literal (detected at line 3) (3947004164.py, line 3)",
     "output_type": "error",
     "traceback": [
      "  \u001b[36mCell\u001b[39m\u001b[36m \u001b[39m\u001b[32mIn[2]\u001b[39m\u001b[32m, line 3\u001b[39m\n\u001b[31m    \u001b[39m\u001b[31mURL = \"https://data.boston.gov/api/3/action/datastore_search?resource_id=31358fd1-849a-48e0-8285-e813f6efbdf1\u001b[39m\n          ^\n\u001b[31mSyntaxError\u001b[39m\u001b[31m:\u001b[39m unterminated string literal (detected at line 3)\n"
     ]
    }
   ],
   "source": [
    "from mon_projet.etl import extract_boston_salary, transform\n",
    "\n",
    "URL = \"https://data.boston.gov/api/3/action/datastore_search?resource_id=31358fd1-849a-48e0-8285-e813f6efbdf1\n",
    "df = extract_boston_salary(URL)\n"
   ]
  },
  {
   "cell_type": "code",
   "execution_count": 3,
   "id": "a8ca25e0-c50d-40d8-9b99-52943bb382bb",
   "metadata": {},
   "outputs": [
    {
     "name": "stdout",
     "output_type": "stream",
     "text": [
      "✅ Extraction réussie : 100 lignes récupérées.\n"
     ]
    }
   ],
   "source": [
    "from mon_projet.etl import extract_boston_salary, transform\n",
    "\n",
    "URL = \"https://data.boston.gov/api/3/action/datastore_search?resource_id=31358fd1-849a-48e0-8285-e813f6efbdf1\"\n",
    "\n",
    "df = extract_boston_salary(URL)\n"
   ]
  },
  {
   "cell_type": "code",
   "execution_count": 4,
   "id": "176741d3-be42-496e-ae70-0ac49b2d2122",
   "metadata": {},
   "outputs": [
    {
     "name": "stdout",
     "output_type": "stream",
     "text": [
      "✅ Extraction réussie : 100 lignes récupérées.\n"
     ]
    },
    {
     "data": {
      "text/html": [
       "<div>\n",
       "<style scoped>\n",
       "    .dataframe tbody tr th:only-of-type {\n",
       "        vertical-align: middle;\n",
       "    }\n",
       "\n",
       "    .dataframe tbody tr th {\n",
       "        vertical-align: top;\n",
       "    }\n",
       "\n",
       "    .dataframe thead th {\n",
       "        text-align: right;\n",
       "    }\n",
       "</style>\n",
       "<table border=\"1\" class=\"dataframe\">\n",
       "  <thead>\n",
       "    <tr style=\"text-align: right;\">\n",
       "      <th></th>\n",
       "      <th>_id</th>\n",
       "      <th>NAME</th>\n",
       "      <th>DEPARTMENT_NAME</th>\n",
       "      <th>TITLE</th>\n",
       "      <th>REGULAR</th>\n",
       "      <th>RETRO</th>\n",
       "      <th>OTHER</th>\n",
       "      <th>OVERTIME</th>\n",
       "      <th>INJURED</th>\n",
       "      <th>DETAIL</th>\n",
       "      <th>QUINN/EDUCATION INCENTIVE</th>\n",
       "      <th>TOTAL EARNINGS</th>\n",
       "      <th>POSTAL</th>\n",
       "    </tr>\n",
       "  </thead>\n",
       "  <tbody>\n",
       "    <tr>\n",
       "      <th>0</th>\n",
       "      <td>1</td>\n",
       "      <td>Williams,David C.</td>\n",
       "      <td>Boston Police Department</td>\n",
       "      <td>Police Officer</td>\n",
       "      <td>95,184.68</td>\n",
       "      <td>None</td>\n",
       "      <td>503,025.78</td>\n",
       "      <td>45,176.88</td>\n",
       "      <td>5,307.62</td>\n",
       "      <td>24,610.00</td>\n",
       "      <td>4,375.69</td>\n",
       "      <td>677,680.65</td>\n",
       "      <td>02356</td>\n",
       "    </tr>\n",
       "    <tr>\n",
       "      <th>1</th>\n",
       "      <td>2</td>\n",
       "      <td>Earley,John W</td>\n",
       "      <td>Boston Police Department</td>\n",
       "      <td>Police Lieutenant</td>\n",
       "      <td>26,130.54</td>\n",
       "      <td>13,001.47</td>\n",
       "      <td>204,120.61</td>\n",
       "      <td>668.36</td>\n",
       "      <td>None</td>\n",
       "      <td>440.00</td>\n",
       "      <td>6,532.63</td>\n",
       "      <td>250,893.61</td>\n",
       "      <td>02131</td>\n",
       "    </tr>\n",
       "    <tr>\n",
       "      <th>2</th>\n",
       "      <td>3</td>\n",
       "      <td>Bucelewicz,Helen</td>\n",
       "      <td>Boston Police Department</td>\n",
       "      <td>Police Officer</td>\n",
       "      <td>8,676.89</td>\n",
       "      <td>None</td>\n",
       "      <td>200,000.00</td>\n",
       "      <td>None</td>\n",
       "      <td>None</td>\n",
       "      <td>None</td>\n",
       "      <td>None</td>\n",
       "      <td>208,676.89</td>\n",
       "      <td>02135</td>\n",
       "    </tr>\n",
       "    <tr>\n",
       "      <th>3</th>\n",
       "      <td>4</td>\n",
       "      <td>Evans,William B</td>\n",
       "      <td>Boston Police Department</td>\n",
       "      <td>Commissioner (Bpd)</td>\n",
       "      <td>149,999.93</td>\n",
       "      <td>3,461.56</td>\n",
       "      <td>165,858.44</td>\n",
       "      <td>None</td>\n",
       "      <td>None</td>\n",
       "      <td>None</td>\n",
       "      <td>None</td>\n",
       "      <td>319,319.93</td>\n",
       "      <td>02127</td>\n",
       "    </tr>\n",
       "    <tr>\n",
       "      <th>4</th>\n",
       "      <td>5</td>\n",
       "      <td>Jones,Ronnie C</td>\n",
       "      <td>Boston Police Department</td>\n",
       "      <td>Police Officer</td>\n",
       "      <td>462,149.98</td>\n",
       "      <td>None</td>\n",
       "      <td>114,973.46</td>\n",
       "      <td>None</td>\n",
       "      <td>None</td>\n",
       "      <td>None</td>\n",
       "      <td>None</td>\n",
       "      <td>577,123.44</td>\n",
       "      <td>02126</td>\n",
       "    </tr>\n",
       "  </tbody>\n",
       "</table>\n",
       "</div>"
      ],
      "text/plain": [
       "   _id               NAME           DEPARTMENT_NAME               TITLE  \\\n",
       "0    1  Williams,David C.  Boston Police Department      Police Officer   \n",
       "1    2      Earley,John W  Boston Police Department   Police Lieutenant   \n",
       "2    3   Bucelewicz,Helen  Boston Police Department      Police Officer   \n",
       "3    4    Evans,William B  Boston Police Department  Commissioner (Bpd)   \n",
       "4    5     Jones,Ronnie C  Boston Police Department      Police Officer   \n",
       "\n",
       "      REGULAR      RETRO       OTHER   OVERTIME   INJURED     DETAIL  \\\n",
       "0   95,184.68       None  503,025.78  45,176.88  5,307.62  24,610.00   \n",
       "1   26,130.54  13,001.47  204,120.61     668.36      None     440.00   \n",
       "2    8,676.89       None  200,000.00       None      None       None   \n",
       "3  149,999.93   3,461.56  165,858.44       None      None       None   \n",
       "4  462,149.98       None  114,973.46       None      None       None   \n",
       "\n",
       "  QUINN/EDUCATION INCENTIVE TOTAL EARNINGS POSTAL  \n",
       "0                  4,375.69     677,680.65  02356  \n",
       "1                  6,532.63     250,893.61  02131  \n",
       "2                      None     208,676.89  02135  \n",
       "3                      None     319,319.93  02127  \n",
       "4                      None     577,123.44  02126  "
      ]
     },
     "execution_count": 4,
     "metadata": {},
     "output_type": "execute_result"
    }
   ],
   "source": [
    "from mon_projet.etl import extract_boston_salary\n",
    "\n",
    "URL = \"https://data.boston.gov/api/3/action/datastore_search?resource_id=31358fd1-849a-48e0-8285-e813f6efbdf1\"\n",
    "\n",
    "df = extract_boston_salary(URL)\n",
    "df.head()\n"
   ]
  },
  {
   "cell_type": "code",
   "execution_count": 5,
   "id": "b7d88d07-e449-4fb2-8917-830daf5c45f4",
   "metadata": {},
   "outputs": [
    {
     "name": "stdout",
     "output_type": "stream",
     "text": [
      "✅ Transformation terminée : 100 lignes conservées.\n"
     ]
    },
    {
     "data": {
      "text/html": [
       "<div>\n",
       "<style scoped>\n",
       "    .dataframe tbody tr th:only-of-type {\n",
       "        vertical-align: middle;\n",
       "    }\n",
       "\n",
       "    .dataframe tbody tr th {\n",
       "        vertical-align: top;\n",
       "    }\n",
       "\n",
       "    .dataframe thead th {\n",
       "        text-align: right;\n",
       "    }\n",
       "</style>\n",
       "<table border=\"1\" class=\"dataframe\">\n",
       "  <thead>\n",
       "    <tr style=\"text-align: right;\">\n",
       "      <th></th>\n",
       "      <th>NAME</th>\n",
       "      <th>TITLE</th>\n",
       "      <th>DEPARTMENT_NAME</th>\n",
       "      <th>TOTAL EARNINGS</th>\n",
       "    </tr>\n",
       "  </thead>\n",
       "  <tbody>\n",
       "    <tr>\n",
       "      <th>0</th>\n",
       "      <td>Williams,David C.</td>\n",
       "      <td>Police Officer</td>\n",
       "      <td>Boston Police Department</td>\n",
       "      <td>677680.65</td>\n",
       "    </tr>\n",
       "    <tr>\n",
       "      <th>1</th>\n",
       "      <td>Earley,John W</td>\n",
       "      <td>Police Lieutenant</td>\n",
       "      <td>Boston Police Department</td>\n",
       "      <td>250893.61</td>\n",
       "    </tr>\n",
       "    <tr>\n",
       "      <th>2</th>\n",
       "      <td>Bucelewicz,Helen</td>\n",
       "      <td>Police Officer</td>\n",
       "      <td>Boston Police Department</td>\n",
       "      <td>208676.89</td>\n",
       "    </tr>\n",
       "    <tr>\n",
       "      <th>3</th>\n",
       "      <td>Evans,William B</td>\n",
       "      <td>Commissioner (Bpd)</td>\n",
       "      <td>Boston Police Department</td>\n",
       "      <td>319319.93</td>\n",
       "    </tr>\n",
       "    <tr>\n",
       "      <th>4</th>\n",
       "      <td>Jones,Ronnie C</td>\n",
       "      <td>Police Officer</td>\n",
       "      <td>Boston Police Department</td>\n",
       "      <td>577123.44</td>\n",
       "    </tr>\n",
       "  </tbody>\n",
       "</table>\n",
       "</div>"
      ],
      "text/plain": [
       "                NAME               TITLE           DEPARTMENT_NAME  \\\n",
       "0  Williams,David C.      Police Officer  Boston Police Department   \n",
       "1      Earley,John W   Police Lieutenant  Boston Police Department   \n",
       "2   Bucelewicz,Helen      Police Officer  Boston Police Department   \n",
       "3    Evans,William B  Commissioner (Bpd)  Boston Police Department   \n",
       "4     Jones,Ronnie C      Police Officer  Boston Police Department   \n",
       "\n",
       "   TOTAL EARNINGS  \n",
       "0       677680.65  \n",
       "1       250893.61  \n",
       "2       208676.89  \n",
       "3       319319.93  \n",
       "4       577123.44  "
      ]
     },
     "execution_count": 5,
     "metadata": {},
     "output_type": "execute_result"
    }
   ],
   "source": [
    "from mon_projet.etl import transform\n",
    "\n",
    "df_clean = transform(df)\n",
    "df_clean.head()\n"
   ]
  },
  {
   "cell_type": "code",
   "execution_count": 6,
   "id": "debb14b6-aca3-43a5-8c39-0cebecb737dc",
   "metadata": {},
   "outputs": [
    {
     "name": "stdout",
     "output_type": "stream",
     "text": [
      "<class 'pandas.core.frame.DataFrame'>\n",
      "RangeIndex: 100 entries, 0 to 99\n",
      "Data columns (total 4 columns):\n",
      " #   Column           Non-Null Count  Dtype  \n",
      "---  ------           --------------  -----  \n",
      " 0   NAME             100 non-null    object \n",
      " 1   TITLE            100 non-null    object \n",
      " 2   DEPARTMENT_NAME  100 non-null    object \n",
      " 3   TOTAL EARNINGS   100 non-null    float64\n",
      "dtypes: float64(1), object(3)\n",
      "memory usage: 3.3+ KB\n"
     ]
    }
   ],
   "source": [
    "df_clean.info()\n"
   ]
  },
  {
   "cell_type": "code",
   "execution_count": 8,
   "id": "10b27fc2-23f4-4bbe-bbf9-70d067bcee8c",
   "metadata": {},
   "outputs": [],
   "source": [
    "df_clean = df_clean.drop_duplicates(subset=[\"NAME\", \"DEPARTMENT_NAME\"])\n"
   ]
  },
  {
   "cell_type": "code",
   "execution_count": 9,
   "id": "cdf53069-ae01-48e9-9724-4392f001777d",
   "metadata": {},
   "outputs": [
    {
     "ename": "ImportError",
     "evalue": "cannot import name 'load' from 'mon_projet.etl' (C:\\Users\\ashle\\Documents\\projet_boston\\project_data\\mon_projet\\etl.py)",
     "output_type": "error",
     "traceback": [
      "\u001b[31m---------------------------------------------------------------------------\u001b[39m",
      "\u001b[31mImportError\u001b[39m                               Traceback (most recent call last)",
      "\u001b[36mCell\u001b[39m\u001b[36m \u001b[39m\u001b[32mIn[9]\u001b[39m\u001b[32m, line 1\u001b[39m\n\u001b[32m----> \u001b[39m\u001b[32m1\u001b[39m \u001b[38;5;28;01mfrom\u001b[39;00m\u001b[38;5;250m \u001b[39m\u001b[34;01mmon_projet\u001b[39;00m\u001b[34;01m.\u001b[39;00m\u001b[34;01metl\u001b[39;00m\u001b[38;5;250m \u001b[39m\u001b[38;5;28;01mimport\u001b[39;00m load\n\u001b[32m      3\u001b[39m load(df_clean, \u001b[33m\"\u001b[39m\u001b[33mboston_salaries_clean.csv\u001b[39m\u001b[33m\"\u001b[39m)\n",
      "\u001b[31mImportError\u001b[39m: cannot import name 'load' from 'mon_projet.etl' (C:\\Users\\ashle\\Documents\\projet_boston\\project_data\\mon_projet\\etl.py)"
     ]
    }
   ],
   "source": [
    "from mon_projet.etl import load\n",
    "\n",
    "load(df_clean, \"boston_salaries_clean.csv\")\n"
   ]
  },
  {
   "cell_type": "code",
   "execution_count": 1,
   "id": "83911a06-81e8-4621-a2d5-96e5f950ddf5",
   "metadata": {
    "scrolled": true
   },
   "outputs": [
    {
     "ename": "NameError",
     "evalue": "name 'df_clean' is not defined",
     "output_type": "error",
     "traceback": [
      "\u001b[31m---------------------------------------------------------------------------\u001b[39m",
      "\u001b[31mNameError\u001b[39m                                 Traceback (most recent call last)",
      "\u001b[36mCell\u001b[39m\u001b[36m \u001b[39m\u001b[32mIn[1]\u001b[39m\u001b[32m, line 3\u001b[39m\n\u001b[32m      1\u001b[39m \u001b[38;5;28;01mfrom\u001b[39;00m\u001b[38;5;250m \u001b[39m\u001b[34;01mmon_projet\u001b[39;00m\u001b[34;01m.\u001b[39;00m\u001b[34;01metl\u001b[39;00m\u001b[38;5;250m \u001b[39m\u001b[38;5;28;01mimport\u001b[39;00m load\n\u001b[32m----> \u001b[39m\u001b[32m3\u001b[39m load(\u001b[43mdf_clean\u001b[49m, \u001b[33m\"\u001b[39m\u001b[33mboston_salaries_clean.csv\u001b[39m\u001b[33m\"\u001b[39m)\n",
      "\u001b[31mNameError\u001b[39m: name 'df_clean' is not defined"
     ]
    }
   ],
   "source": [
    "from mon_projet.etl import load\n",
    "\n",
    "load(df_clean, \"boston_salaries_clean.csv\")"
   ]
  },
  {
   "cell_type": "code",
   "execution_count": 2,
   "id": "695755ea-bae0-45ef-9651-efa5b6a11e48",
   "metadata": {},
   "outputs": [
    {
     "name": "stdout",
     "output_type": "stream",
     "text": [
      "✅ Extraction réussie : 100 lignes récupérées.\n",
      "✅ Transformation terminée : 100 lignes conservées.\n"
     ]
    }
   ],
   "source": [
    "from mon_projet.etl import extract_boston_salary, transform, load\n",
    "\n",
    "\n",
    "URL = \"https://data.boston.gov/api/3/action/datastore_search?resource_id=31358fd1-849a-48e0-8285-e813f6efbdf1\"\n",
    "\n",
    "\n",
    "df = extract_boston_salary(URL)\n",
    "\n",
    "\n",
    "df_clean = transform(df)\n"
   ]
  },
  {
   "cell_type": "code",
   "execution_count": 3,
   "id": "73e70d63-d0df-48c0-93c3-95e878e6bf24",
   "metadata": {},
   "outputs": [
    {
     "name": "stdout",
     "output_type": "stream",
     "text": [
      "✅ Données sauvegardées dans le fichier : boston_salaries_clean.csv\n"
     ]
    }
   ],
   "source": [
    "from mon_projet.etl import load\n",
    "\n",
    "load(df_clean, \"boston_salaries_clean.csv\")\n"
   ]
  },
  {
   "cell_type": "code",
   "execution_count": 4,
   "id": "d0a2bfa0-aab3-46fd-b4da-0e67624b9924",
   "metadata": {},
   "outputs": [
    {
     "data": {
      "text/plain": [
       "['.git',\n",
       " '.github',\n",
       " '.ipynb_checkpoints',\n",
       " '1.ipynb',\n",
       " 'boston_salaries_clean.csv',\n",
       " 'env_dataops',\n",
       " 'main.py',\n",
       " 'mon_projet',\n",
       " 'README.md',\n",
       " 'requirements.txt',\n",
       " 'tests']"
      ]
     },
     "execution_count": 4,
     "metadata": {},
     "output_type": "execute_result"
    }
   ],
   "source": [
    "import os\n",
    "os.listdir()\n"
   ]
  },
  {
   "cell_type": "code",
   "execution_count": 5,
   "id": "4791a0a6-62c6-4b89-b499-78fc884da77f",
   "metadata": {},
   "outputs": [
    {
     "ename": "ImportError",
     "evalue": "cannot import name 'analyse' from 'mon_projet.etl' (C:\\Users\\ashle\\Documents\\projet_boston\\project_data\\mon_projet\\etl.py)",
     "output_type": "error",
     "traceback": [
      "\u001b[31m---------------------------------------------------------------------------\u001b[39m",
      "\u001b[31mImportError\u001b[39m                               Traceback (most recent call last)",
      "\u001b[36mCell\u001b[39m\u001b[36m \u001b[39m\u001b[32mIn[5]\u001b[39m\u001b[32m, line 1\u001b[39m\n\u001b[32m----> \u001b[39m\u001b[32m1\u001b[39m \u001b[38;5;28;01mfrom\u001b[39;00m\u001b[38;5;250m \u001b[39m\u001b[34;01mmon_projet\u001b[39;00m\u001b[34;01m.\u001b[39;00m\u001b[34;01metl\u001b[39;00m\u001b[38;5;250m \u001b[39m\u001b[38;5;28;01mimport\u001b[39;00m analyse\n\u001b[32m      3\u001b[39m stats = analyse(df_clean)\n\u001b[32m      5\u001b[39m stats.get(\u001b[33m\"\u001b[39m\u001b[33mPOLICE\u001b[39m\u001b[33m\"\u001b[39m)\n",
      "\u001b[31mImportError\u001b[39m: cannot import name 'analyse' from 'mon_projet.etl' (C:\\Users\\ashle\\Documents\\projet_boston\\project_data\\mon_projet\\etl.py)"
     ]
    }
   ],
   "source": [
    "from mon_projet.etl import analyse\n",
    "\n",
    "stats = analyse(df_clean)\n",
    "\n",
    "stats.get(\"POLICE\")\n"
   ]
  },
  {
   "cell_type": "code",
   "execution_count": 2,
   "id": "fcf10525-6d88-4682-8466-8985bc393ec1",
   "metadata": {},
   "outputs": [],
   "source": [
    "from mon_projet.etl import extract_boston_salary, transform, load, analyse\n"
   ]
  },
  {
   "cell_type": "code",
   "execution_count": 3,
   "id": "583d2ccb-62e0-4861-97e5-31307d2f3bbe",
   "metadata": {},
   "outputs": [
    {
     "ename": "NameError",
     "evalue": "name 'df_clean' is not defined",
     "output_type": "error",
     "traceback": [
      "\u001b[31m---------------------------------------------------------------------------\u001b[39m",
      "\u001b[31mNameError\u001b[39m                                 Traceback (most recent call last)",
      "\u001b[36mCell\u001b[39m\u001b[36m \u001b[39m\u001b[32mIn[3]\u001b[39m\u001b[32m, line 3\u001b[39m\n\u001b[32m      1\u001b[39m \u001b[38;5;28;01mfrom\u001b[39;00m\u001b[38;5;250m \u001b[39m\u001b[34;01mmon_projet\u001b[39;00m\u001b[34;01m.\u001b[39;00m\u001b[34;01metl\u001b[39;00m\u001b[38;5;250m \u001b[39m\u001b[38;5;28;01mimport\u001b[39;00m analyse\n\u001b[32m----> \u001b[39m\u001b[32m3\u001b[39m stats = analyse(\u001b[43mdf_clean\u001b[49m)\n\u001b[32m      5\u001b[39m stats.get(\u001b[33m\"\u001b[39m\u001b[33mPOLICE\u001b[39m\u001b[33m\"\u001b[39m)\n",
      "\u001b[31mNameError\u001b[39m: name 'df_clean' is not defined"
     ]
    }
   ],
   "source": [
    "from mon_projet.etl import analyse\n",
    "\n",
    "stats = analyse(df_clean)\n",
    "\n",
    "stats.get(\"POLICE\")\n"
   ]
  },
  {
   "cell_type": "code",
   "execution_count": 4,
   "id": "1d830e2c-c5ff-4ce5-a173-2b901f06b043",
   "metadata": {},
   "outputs": [
    {
     "name": "stdout",
     "output_type": "stream",
     "text": [
      "✅ Extraction réussie : 100 lignes récupérées.\n",
      "✅ Transformation terminée : 100 lignes conservées.\n",
      "✅ Données sauvegardées dans le fichier : boston_salaries_clean.csv\n"
     ]
    }
   ],
   "source": [
    "from mon_projet.etl import extract_boston_salary, transform, load, analyse\n",
    "\n",
    "URL = \"https://data.boston.gov/api/3/action/datastore_search?resource_id=31358fd1-849a-48e0-8285-e813f6efbdf1\"\n",
    "df = extract_boston_salary(URL)\n",
    "\n",
    "df_clean = transform(df)\n",
    "\n",
    "load(df_clean, \"boston_salaries_clean.csv\")\n"
   ]
  },
  {
   "cell_type": "code",
   "execution_count": 5,
   "id": "633de661-5a13-4cb5-9a3d-2bd7eaf84f86",
   "metadata": {},
   "outputs": [
    {
     "name": "stdout",
     "output_type": "stream",
     "text": [
      "✅ Analyse réalisée sur 1 départements.\n"
     ]
    }
   ],
   "source": [
    "from mon_projet.etl import analyse\n",
    "\n",
    "stats = analyse(df_clean)\n",
    "\n",
    "stats.get(\"POLICE\")"
   ]
  },
  {
   "cell_type": "code",
   "execution_count": 6,
   "id": "b84f84a4-7e8c-4f58-9b0a-c2ddcc249e0c",
   "metadata": {},
   "outputs": [
    {
     "name": "stdout",
     "output_type": "stream",
     "text": [
      "✅ Analyse réalisée sur 1 départements.\n"
     ]
    }
   ],
   "source": [
    "from mon_projet.etl import analyse\n",
    "\n",
    "stats = analyse(df_clean)\n",
    "\n",
    "\n",
    "stats.get(\"POLICE\")\n"
   ]
  },
  {
   "cell_type": "code",
   "execution_count": 7,
   "id": "a62145df-5ac0-4956-b591-d2e3ad7ca233",
   "metadata": {},
   "outputs": [
    {
     "data": {
      "text/html": [
       "<div>\n",
       "<style scoped>\n",
       "    .dataframe tbody tr th:only-of-type {\n",
       "        vertical-align: middle;\n",
       "    }\n",
       "\n",
       "    .dataframe tbody tr th {\n",
       "        vertical-align: top;\n",
       "    }\n",
       "\n",
       "    .dataframe thead th {\n",
       "        text-align: right;\n",
       "    }\n",
       "</style>\n",
       "<table border=\"1\" class=\"dataframe\">\n",
       "  <thead>\n",
       "    <tr style=\"text-align: right;\">\n",
       "      <th></th>\n",
       "      <th>min</th>\n",
       "      <th>max</th>\n",
       "      <th>moyenne</th>\n",
       "      <th>mediane</th>\n",
       "      <th>écart</th>\n",
       "      <th>nb_employés</th>\n",
       "    </tr>\n",
       "  </thead>\n",
       "  <tbody>\n",
       "    <tr>\n",
       "      <th>Boston Police Department</th>\n",
       "      <td>34791.89</td>\n",
       "      <td>684410.9</td>\n",
       "      <td>191617.9897</td>\n",
       "      <td>151603.65</td>\n",
       "      <td>649619.01</td>\n",
       "      <td>100</td>\n",
       "    </tr>\n",
       "  </tbody>\n",
       "</table>\n",
       "</div>"
      ],
      "text/plain": [
       "                               min       max      moyenne    mediane  \\\n",
       "Boston Police Department  34791.89  684410.9  191617.9897  151603.65   \n",
       "\n",
       "                              écart  nb_employés  \n",
       "Boston Police Department  649619.01          100  "
      ]
     },
     "execution_count": 7,
     "metadata": {},
     "output_type": "execute_result"
    }
   ],
   "source": [
    "import pandas as pd\n",
    "\n",
    "\n",
    "df_stats = pd.DataFrame.from_dict(stats, orient=\"index\")\n",
    "df_stats = df_stats.sort_values(by=\"moyenne\", ascending=False)\n",
    "df_stats.head(10)  \n"
   ]
  }
 ],
 "metadata": {
  "kernelspec": {
   "display_name": "Python 3 (ipykernel)",
   "language": "python",
   "name": "python3"
  },
  "language_info": {
   "codemirror_mode": {
    "name": "ipython",
    "version": 3
   },
   "file_extension": ".py",
   "mimetype": "text/x-python",
   "name": "python",
   "nbconvert_exporter": "python",
   "pygments_lexer": "ipython3",
   "version": "3.14.0"
  }
 },
 "nbformat": 4,
 "nbformat_minor": 5
}
